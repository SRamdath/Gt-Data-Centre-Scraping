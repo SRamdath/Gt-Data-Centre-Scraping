{
 "cells": [
  {
   "cell_type": "code",
   "execution_count": null,
   "metadata": {},
   "outputs": [
    {
     "name": "stdout",
     "output_type": "stream",
     "text": [
      "                               Name   Latitude  Longitude\n",
      "0    X.AT4..Atlanta.IBX.Data.Center  33.895445 -84.453611\n",
      "1           X365.Smyrna.Data.Center  33.841159 -84.522407\n",
      "2           AT2.Atlanta.Data.Center  33.926009 -84.481383\n",
      "3                          Coloblox  33.883949 -84.472318\n",
      "4  DC.Blox.Atlanta.ATL1.Data.Center  33.831712 -84.339108\n"
     ]
    }
   ],
   "source": [
    "import re\n",
    "import json\n",
    "import pandas as pd\n",
    "from bs4 import BeautifulSoup\n",
    "from selenium import webdriver\n",
    "from selenium.webdriver.chrome.service import Service\n",
    "from webdriver_manager.chrome import ChromeDriverManager\n",
    "\n",
    "\n",
    "driver = webdriver.Chrome(service=Service(ChromeDriverManager().install()))\n",
    "\n",
    "url = \"https://drawdownga.gatech.edu/files/2024/08/data-centers-ver6.html\"\n",
    "driver.get(url)\n",
    "\n",
    "driver.implicitly_wait(10)\n",
    "\n",
    "page_source = driver.page_source\n",
    "\n",
    "soup = BeautifulSoup(page_source, 'html.parser')\n",
    "\n",
    "# Find the script tag with type \"application/json\" and data-for attribute\n",
    "script_tag = soup.find('script', type='application/json', attrs={'data-for': re.compile('htmlwidget-*')})\n",
    "\n",
    "if script_tag:\n",
    "    # Extract the JSON data\n",
    "    json_text = script_tag.string\n",
    "\n",
    "    # Parse the JSON data\n",
    "    data = json.loads(json_text)\n",
    "\n",
    "    # Navigate through the JSON structure to find the data\n",
    "    # data['x']['calls'][...], we need to find the method 'addCircleMarkers' and extract its arguments\n",
    "    calls = data['x']['calls']\n",
    "\n",
    "    for call in calls:\n",
    "        if call['method'] == 'addCircleMarkers':\n",
    "            args = call['args']\n",
    "            latitudes = args[0]  # First argument is a list of latitudes\n",
    "            longitudes = args[1]  # Second argument is a list of longitudes\n",
    "            names = args[3]  # Fourth argument is a list of names\n",
    "            break\n",
    "    else:\n",
    "        print(\"Could not find 'addCircleMarkers' in the JSON data.\")\n",
    "        driver.quit()\n",
    "        exit()\n",
    "\n",
    "    # Ensure that the lengths match then create dataframe\n",
    "    if len(latitudes) == len(longitudes) == len(names):\n",
    "        df = pd.DataFrame({\n",
    "            'Name': names,\n",
    "            'Latitude': latitudes,\n",
    "            'Longitude': longitudes\n",
    "        })\n",
    "\n",
    "        # Save data to a CSV file or display it\n",
    "        df.to_csv('data_centers_extracted.csv', index=False)\n",
    "        print(df.head()) \n",
    "    else:\n",
    "        print(\"Mismatch in lengths of extracted data\")\n",
    "\n",
    "else:\n",
    "    print(\"Could not find.\")\n",
    "\n",
    "# Close the driver\n",
    "driver.quit()"
   ]
  }
 ],
 "metadata": {
  "kernelspec": {
   "display_name": "Python 3",
   "language": "python",
   "name": "python3"
  },
  "language_info": {
   "codemirror_mode": {
    "name": "ipython",
    "version": 3
   },
   "file_extension": ".py",
   "mimetype": "text/x-python",
   "name": "python",
   "nbconvert_exporter": "python",
   "pygments_lexer": "ipython3",
   "version": "3.11.9"
  }
 },
 "nbformat": 4,
 "nbformat_minor": 2
}
